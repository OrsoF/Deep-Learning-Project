{
 "cells": [
  {
   "cell_type": "markdown",
   "metadata": {},
   "source": [
    "# Dataset"
   ]
  },
  {
   "cell_type": "code",
   "execution_count": null,
   "metadata": {
    "_cell_guid": "79c7e3d0-c299-4dcb-8224-4455121ee9b0",
    "_uuid": "d629ff2d2480ee46fbb7e2d37f6b5fab8052498a",
    "execution": {
     "iopub.execute_input": "2022-02-12T18:20:09.850899Z",
     "iopub.status.busy": "2022-02-12T18:20:09.850429Z",
     "iopub.status.idle": "2022-02-12T18:20:12.297253Z",
     "shell.execute_reply": "2022-02-12T18:20:12.296441Z",
     "shell.execute_reply.started": "2022-02-12T18:20:09.850843Z"
    }
   },
   "outputs": [],
   "source": [
    "# Very few imports. This is a pure torch solution!\n",
    "import cv2\n",
    "import time\n",
    "\n",
    "import numpy as np\n",
    "import pandas as pd\n",
    "from matplotlib import pyplot as plt\n",
    "\n",
    "import albumentations as A\n",
    "from albumentations.pytorch.transforms import ToTensorV2\n",
    "\n",
    "import torch\n",
    "import torchvision\n",
    "from torch.utils.data import DataLoader, Dataset\n",
    "from torchvision.models.detection.faster_rcnn import FastRCNNPredictor\n",
    "from torchvision.models.detection import FasterRCNN\n",
    "\n",
    "DEVICE = torch.device('cuda') if torch.cuda.is_available() else torch.device('cpu')\n",
    "BASE_DIR = \"../input/tensorflow-great-barrier-reef/train_images/\"\n",
    "\n",
    "NUM_EPOCHS = 12"
   ]
  },
  {
   "cell_type": "code",
   "execution_count": null,
   "metadata": {
    "execution": {
     "iopub.execute_input": "2022-02-12T18:20:12.330409Z",
     "iopub.status.busy": "2022-02-12T18:20:12.330116Z",
     "iopub.status.idle": "2022-02-12T18:20:12.747970Z",
     "shell.execute_reply": "2022-02-12T18:20:12.747097Z",
     "shell.execute_reply.started": "2022-02-12T18:20:12.330341Z"
    }
   },
   "outputs": [],
   "source": [
    "df = pd.read_csv(\"../input/reef-cv-strategy-subsequences-dataframes/train-validation-split/train-0.1.csv\")\n",
    "\n",
    "# Turn annotations from strings into lists of dictionaries\n",
    "df['annotations'] = df['annotations'].apply(eval)\n",
    "\n",
    "# Create the image path for the row\n",
    "df['image_path'] = \"video_\" + df['video_id'].astype(str) + \"/\" + df['video_frame'].astype(str) + \".jpg\"\n",
    "\n",
    "df.head()"
   ]
  },
  {
   "cell_type": "code",
   "execution_count": null,
   "metadata": {
    "execution": {
     "iopub.execute_input": "2022-02-12T18:20:12.749815Z",
     "iopub.status.busy": "2022-02-12T18:20:12.749433Z",
     "iopub.status.idle": "2022-02-12T18:20:12.759632Z",
     "shell.execute_reply": "2022-02-12T18:20:12.758631Z",
     "shell.execute_reply.started": "2022-02-12T18:20:12.749762Z"
    }
   },
   "outputs": [],
   "source": [
    "df_train, df_val = df[df['is_train']], df[~df['is_train']]"
   ]
  },
  {
   "cell_type": "code",
   "execution_count": null,
   "metadata": {
    "execution": {
     "iopub.execute_input": "2022-02-12T18:20:12.763666Z",
     "iopub.status.busy": "2022-02-12T18:20:12.763308Z",
     "iopub.status.idle": "2022-02-12T18:20:12.787885Z",
     "shell.execute_reply": "2022-02-12T18:20:12.787067Z",
     "shell.execute_reply.started": "2022-02-12T18:20:12.763614Z"
    }
   },
   "outputs": [],
   "source": [
    "df_train = df_train[df_train.annotations.str.len() > 0 ].reset_index(drop=True)\n",
    "df_val = df_val[df_val.annotations.str.len() > 0 ].reset_index(drop=True)"
   ]
  },
  {
   "cell_type": "code",
   "execution_count": null,
   "metadata": {
    "execution": {
     "iopub.execute_input": "2022-02-12T18:20:12.791054Z",
     "iopub.status.busy": "2022-02-12T18:20:12.790499Z",
     "iopub.status.idle": "2022-02-12T18:20:12.797580Z",
     "shell.execute_reply": "2022-02-12T18:20:12.796657Z",
     "shell.execute_reply.started": "2022-02-12T18:20:12.790845Z"
    }
   },
   "outputs": [],
   "source": [
    "df_train.shape[0], df_val.shape[0]"
   ]
  },
  {
   "cell_type": "markdown",
   "metadata": {},
   "source": [
    "# Dataset class"
   ]
  },
  {
   "cell_type": "code",
   "execution_count": null,
   "metadata": {
    "execution": {
     "iopub.execute_input": "2022-02-12T18:20:12.799834Z",
     "iopub.status.busy": "2022-02-12T18:20:12.799212Z",
     "iopub.status.idle": "2022-02-12T18:20:12.822612Z",
     "shell.execute_reply": "2022-02-12T18:20:12.821644Z",
     "shell.execute_reply.started": "2022-02-12T18:20:12.799781Z"
    }
   },
   "outputs": [],
   "source": [
    "class ReefDataset:\n",
    "\n",
    "    def __init__(self, df, transforms=None):\n",
    "        self.df = df\n",
    "        self.transforms = transforms\n",
    "\n",
    "    def can_augment(self, boxes):\n",
    "        \"\"\" Check if bounding boxes are OK to augment\n",
    "        \n",
    "        \n",
    "        For example: image_id 1-490 has a bounding box that is partially outside of the image\n",
    "        It breaks albumentation\n",
    "        Here we check the margins are within the image to make sure the augmentation can be applied\n",
    "        \"\"\"\n",
    "        \n",
    "        box_outside_image = ((boxes[:, 0] < 0).any() or (boxes[:, 1] < 0).any() \n",
    "                             or (boxes[:, 2] > 1280).any() or (boxes[:, 3] > 720).any())\n",
    "        return not box_outside_image\n",
    "\n",
    "    def get_boxes(self, row):\n",
    "        \"\"\"Returns the bboxes for a given row as a 3D matrix with format [x_min, y_min, x_max, y_max]\"\"\"\n",
    "        \n",
    "        boxes = pd.DataFrame(row['annotations'], columns=['x', 'y', 'width', 'height']).astype(float).values\n",
    "        \n",
    "        # Change from [x_min, y_min, w, h] to [x_min, y_min, x_max, y_max]\n",
    "        boxes[:, 2] = boxes[:, 0] + boxes[:, 2]\n",
    "        boxes[:, 3] = boxes[:, 1] + boxes[:, 3]\n",
    "        return boxes\n",
    "    \n",
    "    def get_image(self, row):\n",
    "        \"\"\"Gets the image for a given row\"\"\"\n",
    "        \n",
    "        image = cv2.imread(f'{BASE_DIR}/{row[\"image_path\"]}', cv2.IMREAD_COLOR)\n",
    "        image = cv2.cvtColor(image, cv2.COLOR_BGR2RGB).astype(np.float32)\n",
    "        image /= 255.0\n",
    "        return image\n",
    "    \n",
    "    def __getitem__(self, i):\n",
    "\n",
    "        row = self.df.iloc[i]\n",
    "        image = self.get_image(row)\n",
    "        boxes = self.get_boxes(row)\n",
    "        \n",
    "        n_boxes = boxes.shape[0]\n",
    "        \n",
    "        # Calculate the area\n",
    "        area = (boxes[:, 3] - boxes[:, 1]) * (boxes[:, 2] - boxes[:, 0])\n",
    "        \n",
    "        \n",
    "        target = {\n",
    "            'boxes': torch.as_tensor(boxes, dtype=torch.float32),\n",
    "            'area': torch.as_tensor(area, dtype=torch.float32),\n",
    "            \n",
    "            'image_id': torch.tensor([i]),\n",
    "            \n",
    "            # There is only one class\n",
    "            'labels': torch.ones((n_boxes,), dtype=torch.int64),\n",
    "            \n",
    "            # Suppose all instances are not crowd\n",
    "            'iscrowd': torch.zeros((n_boxes,), dtype=torch.int64)            \n",
    "        }\n",
    "\n",
    "        if self.transforms and self.can_augment(boxes):\n",
    "            sample = {\n",
    "                'image': image,\n",
    "                'bboxes': target['boxes'],\n",
    "                'labels': target['labels']\n",
    "            }\n",
    "            sample = self.transforms(**sample)\n",
    "            image = sample['image']\n",
    "            \n",
    "            if n_boxes > 0:\n",
    "                target['boxes'] = torch.stack(tuple(map(torch.tensor, zip(*sample['bboxes'])))).permute(1, 0)\n",
    "        else:\n",
    "            image = ToTensorV2(p=1.0)(image=image)['image']\n",
    "\n",
    "        return image, target\n",
    "\n",
    "    def __len__(self):\n",
    "        return len(self.df)"
   ]
  },
  {
   "cell_type": "markdown",
   "metadata": {},
   "source": [
    "## Augmentations"
   ]
  },
  {
   "cell_type": "code",
   "execution_count": null,
   "metadata": {
    "execution": {
     "iopub.execute_input": "2022-02-12T18:20:12.824928Z",
     "iopub.status.busy": "2022-02-12T18:20:12.824368Z",
     "iopub.status.idle": "2022-02-12T18:20:12.835124Z",
     "shell.execute_reply": "2022-02-12T18:20:12.834111Z",
     "shell.execute_reply.started": "2022-02-12T18:20:12.824746Z"
    }
   },
   "outputs": [],
   "source": [
    "def get_train_transform():\n",
    "    return A.Compose([\n",
    "        A.Flip(0.5),\n",
    "        ToTensorV2(p=1.0)\n",
    "    ], bbox_params={'format': 'pascal_voc', 'label_fields': ['labels']})\n",
    "\n",
    "\n",
    "def get_valid_transform():\n",
    "    return A.Compose([\n",
    "        ToTensorV2(p=1.0)\n",
    "    ], bbox_params={'format': 'pascal_voc', 'label_fields': ['labels']})"
   ]
  },
  {
   "cell_type": "code",
   "execution_count": null,
   "metadata": {
    "execution": {
     "iopub.execute_input": "2022-02-12T18:20:12.837142Z",
     "iopub.status.busy": "2022-02-12T18:20:12.836544Z",
     "iopub.status.idle": "2022-02-12T18:20:12.844137Z",
     "shell.execute_reply": "2022-02-12T18:20:12.843377Z",
     "shell.execute_reply.started": "2022-02-12T18:20:12.836971Z"
    }
   },
   "outputs": [],
   "source": [
    "# Define datasets\n",
    "ds_train = ReefDataset(df_train, get_train_transform())\n",
    "ds_val = ReefDataset(df_val, get_valid_transform())"
   ]
  },
  {
   "cell_type": "markdown",
   "metadata": {},
   "source": [
    "## Check one sample"
   ]
  },
  {
   "cell_type": "code",
   "execution_count": null,
   "metadata": {
    "execution": {
     "iopub.execute_input": "2022-02-12T18:20:12.846427Z",
     "iopub.status.busy": "2022-02-12T18:20:12.845896Z",
     "iopub.status.idle": "2022-02-12T18:20:12.891666Z",
     "shell.execute_reply": "2022-02-12T18:20:12.890993Z",
     "shell.execute_reply.started": "2022-02-12T18:20:12.846287Z"
    }
   },
   "outputs": [],
   "source": [
    "# Let's get an interesting one ;)\n",
    "df_train[df_train.annotations.str.len() > 12].head()"
   ]
  },
  {
   "cell_type": "code",
   "execution_count": null,
   "metadata": {
    "execution": {
     "iopub.execute_input": "2022-02-12T18:20:12.893178Z",
     "iopub.status.busy": "2022-02-12T18:20:12.892831Z",
     "iopub.status.idle": "2022-02-12T18:20:13.017839Z",
     "shell.execute_reply": "2022-02-12T18:20:13.017037Z",
     "shell.execute_reply.started": "2022-02-12T18:20:12.893130Z"
    }
   },
   "outputs": [],
   "source": [
    "image, targets = ds_train[2200]\n",
    "image"
   ]
  },
  {
   "cell_type": "code",
   "execution_count": null,
   "metadata": {
    "execution": {
     "iopub.execute_input": "2022-02-12T18:20:13.019540Z",
     "iopub.status.busy": "2022-02-12T18:20:13.019191Z",
     "iopub.status.idle": "2022-02-12T18:20:13.029515Z",
     "shell.execute_reply": "2022-02-12T18:20:13.028403Z",
     "shell.execute_reply.started": "2022-02-12T18:20:13.019491Z"
    }
   },
   "outputs": [],
   "source": [
    "targets"
   ]
  },
  {
   "cell_type": "code",
   "execution_count": null,
   "metadata": {
    "execution": {
     "iopub.execute_input": "2022-02-12T18:20:13.031900Z",
     "iopub.status.busy": "2022-02-12T18:20:13.031318Z",
     "iopub.status.idle": "2022-02-12T18:20:13.498399Z",
     "shell.execute_reply": "2022-02-12T18:20:13.495545Z",
     "shell.execute_reply.started": "2022-02-12T18:20:13.031851Z"
    }
   },
   "outputs": [],
   "source": [
    "boxes = targets['boxes'].cpu().numpy().astype(np.int32)\n",
    "img = image.permute(1,2,0).cpu().numpy()\n",
    "fig, ax = plt.subplots(1, 1, figsize=(16, 8))\n",
    "\n",
    "for box in boxes:\n",
    "    cv2.rectangle(img,\n",
    "                  (box[0], box[1]),\n",
    "                  (box[2], box[3]),\n",
    "                  (220, 0, 0), 3)\n",
    "    \n",
    "ax.set_axis_off()\n",
    "ax.imshow(img);"
   ]
  },
  {
   "cell_type": "markdown",
   "metadata": {},
   "source": [
    "## DataLoaders"
   ]
  },
  {
   "cell_type": "code",
   "execution_count": null,
   "metadata": {
    "execution": {
     "iopub.execute_input": "2022-02-12T18:20:13.499821Z",
     "iopub.status.busy": "2022-02-12T18:20:13.499504Z",
     "iopub.status.idle": "2022-02-12T18:20:13.506896Z",
     "shell.execute_reply": "2022-02-12T18:20:13.505852Z",
     "shell.execute_reply.started": "2022-02-12T18:20:13.499781Z"
    }
   },
   "outputs": [],
   "source": [
    "def collate_fn(batch):\n",
    "    return tuple(zip(*batch))\n",
    "\n",
    "dl_train = DataLoader(ds_train, batch_size=8, shuffle=False, num_workers=4, collate_fn=collate_fn)\n",
    "dl_val = DataLoader(ds_val, batch_size=8, shuffle=False, num_workers=4, collate_fn=collate_fn)"
   ]
  },
  {
   "cell_type": "markdown",
   "metadata": {},
   "source": [
    "# Create the model"
   ]
  },
  {
   "cell_type": "code",
   "execution_count": null,
   "metadata": {
    "execution": {
     "iopub.execute_input": "2022-02-12T18:20:13.509092Z",
     "iopub.status.busy": "2022-02-12T18:20:13.508489Z",
     "iopub.status.idle": "2022-02-12T18:20:23.684849Z",
     "shell.execute_reply": "2022-02-12T18:20:23.683939Z",
     "shell.execute_reply.started": "2022-02-12T18:20:13.509019Z"
    }
   },
   "outputs": [],
   "source": [
    "def get_model():\n",
    "    # load a model; pre-trained on COCO\n",
    "    model = torchvision.models.detection.fasterrcnn_resnet50_fpn(pretrained=True)\n",
    "\n",
    "    num_classes = 2  # 1 class (starfish) + background\n",
    "\n",
    "    # get number of input features for the classifier\n",
    "    in_features = model.roi_heads.box_predictor.cls_score.in_features\n",
    "\n",
    "    # replace the pre-trained head with a new one\n",
    "    model.roi_heads.box_predictor = FastRCNNPredictor(in_features, num_classes)\n",
    "\n",
    "    model.to(DEVICE)\n",
    "    return model\n",
    "\n",
    "model = get_model()"
   ]
  },
  {
   "cell_type": "markdown",
   "metadata": {},
   "source": [
    "# Train"
   ]
  },
  {
   "cell_type": "code",
   "execution_count": null,
   "metadata": {
    "execution": {
     "iopub.execute_input": "2022-02-12T18:20:23.686762Z",
     "iopub.status.busy": "2022-02-12T18:20:23.686418Z",
     "iopub.status.idle": "2022-02-12T20:53:28.729625Z",
     "shell.execute_reply": "2022-02-12T20:53:28.728524Z",
     "shell.execute_reply.started": "2022-02-12T18:20:23.686715Z"
    }
   },
   "outputs": [],
   "source": [
    "params = [p for p in model.parameters() if p.requires_grad]\n",
    "optimizer = torch.optim.SGD(params, lr=0.0025, momentum=0.9, weight_decay=0.0005)\n",
    "# lr_scheduler = torch.optim.lr_scheduler.StepLR(optimizer, step_size=3, gamma=0.1)\n",
    "lr_scheduler = None\n",
    "\n",
    "n_batches, n_batches_val = len(dl_train), len(dl_val)\n",
    "validation_losses = []\n",
    "\n",
    "\n",
    "for epoch in range(NUM_EPOCHS):\n",
    "    time_start = time.time()\n",
    "    loss_accum = 0\n",
    "    \n",
    "    for batch_idx, (images, targets) in enumerate(dl_train, 1):\n",
    "        \n",
    "        images = list(image.to(DEVICE) for image in images)\n",
    "        targets = [{k: v.to(DEVICE) for k, v in t.items()} for t in targets]\n",
    "\n",
    "        # Predict\n",
    "        loss_dict = model(images, targets)\n",
    "        losses = sum(loss for loss in loss_dict.values())\n",
    "        loss_value = losses.item()\n",
    "\n",
    "        loss_accum += loss_value\n",
    "\n",
    "        # Back-prop\n",
    "        optimizer.zero_grad()\n",
    "        losses.backward()\n",
    "        optimizer.step()\n",
    "\n",
    "    \n",
    "    # update the learning rate\n",
    "    if lr_scheduler is not None:\n",
    "        lr_scheduler.step()\n",
    "\n",
    "    # Validation \n",
    "    val_loss_accum = 0\n",
    "        \n",
    "    with torch.no_grad():\n",
    "        for batch_idx, (images, targets) in enumerate(dl_val, 1):\n",
    "            images = list(image.to(DEVICE) for image in images)\n",
    "            targets = [{k: v.to(DEVICE) for k, v in t.items()} for t in targets]\n",
    "            \n",
    "            val_loss_dict = model(images, targets)\n",
    "            val_batch_loss = sum(loss for loss in val_loss_dict.values())\n",
    "            val_loss_accum += val_batch_loss.item()\n",
    "    \n",
    "    # Logging\n",
    "    val_loss = val_loss_accum / n_batches_val\n",
    "    train_loss = loss_accum / n_batches\n",
    "    validation_losses.append(val_loss)\n",
    "    \n",
    "    # Save model\n",
    "    chk_name = f'fasterrcnn_resnet50_fpn-e{epoch}.bin'\n",
    "    torch.save(model.state_dict(), chk_name)\n",
    "    \n",
    "    \n",
    "    elapsed = time.time() - time_start\n",
    "    \n",
    "    print(f\"[Epoch {epoch+1:2d} / {NUM_EPOCHS:2d}] Train loss: {train_loss:.3f}. Val loss: {val_loss:.3f} --> {chk_name}  [{elapsed:.0f} secs]\")   "
   ]
  },
  {
   "cell_type": "code",
   "execution_count": null,
   "metadata": {
    "execution": {
     "iopub.execute_input": "2022-02-12T20:53:28.731881Z",
     "iopub.status.busy": "2022-02-12T20:53:28.731324Z",
     "iopub.status.idle": "2022-02-12T20:53:28.738404Z",
     "shell.execute_reply": "2022-02-12T20:53:28.737142Z",
     "shell.execute_reply.started": "2022-02-12T20:53:28.731823Z"
    }
   },
   "outputs": [],
   "source": [
    "validation_losses"
   ]
  },
  {
   "cell_type": "code",
   "execution_count": null,
   "metadata": {
    "execution": {
     "iopub.execute_input": "2022-02-12T20:53:28.740575Z",
     "iopub.status.busy": "2022-02-12T20:53:28.740144Z",
     "iopub.status.idle": "2022-02-12T20:53:28.750930Z",
     "shell.execute_reply": "2022-02-12T20:53:28.750155Z",
     "shell.execute_reply.started": "2022-02-12T20:53:28.740522Z"
    }
   },
   "outputs": [],
   "source": [
    "np.argmin(validation_losses)"
   ]
  },
  {
   "cell_type": "markdown",
   "metadata": {},
   "source": [
    "# Result"
   ]
  },
  {
   "cell_type": "code",
   "execution_count": null,
   "metadata": {
    "execution": {
     "iopub.execute_input": "2022-02-12T20:53:28.753280Z",
     "iopub.status.busy": "2022-02-12T20:53:28.752585Z",
     "iopub.status.idle": "2022-02-12T20:53:31.165425Z",
     "shell.execute_reply": "2022-02-12T20:53:31.164505Z",
     "shell.execute_reply.started": "2022-02-12T20:53:28.753100Z"
    }
   },
   "outputs": [],
   "source": [
    "idx = 0\n",
    "\n",
    "images, targets = next(iter(dl_val))\n",
    "images = list(img.to(DEVICE) for img in images)\n",
    "targets = [{k: v.to(DEVICE) for k, v in t.items()} for t in targets]\n",
    "\n",
    "boxes = targets[idx]['boxes'].cpu().numpy().astype(np.int32)\n",
    "sample = images[idx].permute(1,2,0).cpu().numpy()\n",
    "\n",
    "model.eval()\n",
    "\n",
    "outputs = model(images)\n",
    "outputs = [{k: v.detach().cpu().numpy() for k, v in t.items()} for t in outputs]"
   ]
  },
  {
   "cell_type": "code",
   "execution_count": null,
   "metadata": {
    "execution": {
     "iopub.execute_input": "2022-02-12T20:53:31.167585Z",
     "iopub.status.busy": "2022-02-12T20:53:31.167222Z",
     "iopub.status.idle": "2022-02-12T20:53:31.613927Z",
     "shell.execute_reply": "2022-02-12T20:53:31.612971Z",
     "shell.execute_reply.started": "2022-02-12T20:53:31.167532Z"
    }
   },
   "outputs": [],
   "source": [
    "fig, ax = plt.subplots(1, 1, figsize=(16, 8))\n",
    "\n",
    "# Red for ground truth\n",
    "for box in boxes:\n",
    "    cv2.rectangle(sample,\n",
    "                  (box[0], box[1]),\n",
    "                  (box[2], box[3]),\n",
    "                  (220, 0, 0), 3)\n",
    "\n",
    "    \n",
    "# Green for predictions\n",
    "# Print the first 5\n",
    "for box in outputs[idx]['boxes'][:5]:\n",
    "    cv2.rectangle(sample,\n",
    "                  (box[0], box[1]),\n",
    "                  (box[2], box[3]),\n",
    "                  (0, 220, 0), 3)\n",
    "\n",
    "ax.set_axis_off()\n",
    "ax.imshow(sample);"
   ]
  },
  {
   "cell_type": "code",
   "execution_count": null,
   "metadata": {
    "execution": {
     "iopub.execute_input": "2022-02-12T20:53:31.615673Z",
     "iopub.status.busy": "2022-02-12T20:53:31.615199Z",
     "iopub.status.idle": "2022-02-12T20:53:31.957599Z",
     "shell.execute_reply": "2022-02-12T20:53:31.956771Z",
     "shell.execute_reply.started": "2022-02-12T20:53:31.615626Z"
    }
   },
   "outputs": [],
   "source": [
    "torch.save(model, 'model.h5')"
   ]
  }
 ],
 "metadata": {
  "kernelspec": {
   "display_name": "Python 3 (ipykernel)",
   "language": "python",
   "name": "python3"
  },
  "language_info": {
   "codemirror_mode": {
    "name": "ipython",
    "version": 3
   },
   "file_extension": ".py",
   "mimetype": "text/x-python",
   "name": "python",
   "nbconvert_exporter": "python",
   "pygments_lexer": "ipython3",
   "version": "3.7.0"
  }
 },
 "nbformat": 4,
 "nbformat_minor": 4
}
